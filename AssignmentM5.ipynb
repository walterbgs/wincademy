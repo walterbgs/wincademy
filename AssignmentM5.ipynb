{
  "nbformat": 4,
  "nbformat_minor": 0,
  "metadata": {
    "colab": {
      "provenance": [],
      "toc_visible": true,
      "authorship_tag": "ABX9TyOAIEoz7NCJTexMwYw0Ugpj",
      "include_colab_link": true
    },
    "kernelspec": {
      "name": "python3",
      "display_name": "Python 3"
    },
    "language_info": {
      "name": "python"
    }
  },
  "cells": [
    {
      "cell_type": "markdown",
      "metadata": {
        "id": "view-in-github",
        "colab_type": "text"
      },
      "source": [
        "<a href=\"https://colab.research.google.com/github/walterbgs/wincademy/blob/main/AssignmentM5.ipynb\" target=\"_parent\"><img src=\"https://colab.research.google.com/assets/colab-badge.svg\" alt=\"Open In Colab\"/></a>"
      ]
    },
    {
      "cell_type": "code",
      "execution_count": null,
      "metadata": {
        "id": "gm93CbWN7aEp"
      },
      "outputs": [],
      "source": [
        "import numpy as np\n",
        "import pandas as pd\n",
        "import matplotlib.pyplot as plt\n",
        "import re\n",
        "\n",
        "\n",
        "%load_ext google.colab.data_table"
      ]
    },
    {
      "cell_type": "code",
      "source": [
        "df=pd.read_csv(\"https://raw.githubusercontent.com/walterbgs/wincademy/main/attacks.csv\", encoding='ISO-8859-1')\n",
        "display (df)"
      ],
      "metadata": {
        "id": "iHbtebuy7vuB"
      },
      "execution_count": null,
      "outputs": []
    },
    {
      "cell_type": "code",
      "source": [
        "\n",
        "# Rename columns\n",
        "df.rename(columns={'Fatal (Y/N)': 'Fatal', 'Species ': 'Species'}, inplace=True)\n",
        "\n",
        "# Drop irrelevant columns/Keep relevant columns\n",
        "df = df.loc[:, ['Type', 'Activity', 'Name', 'Age', 'Injury', 'Fatal', 'Species']]\n",
        "\n",
        "# Drop 'empty' rows\n",
        "df.dropna(how=\"all\", inplace=True)\n",
        "\n",
        "# Drop rows that are invalid or questionable\n",
        "# Aanname 1: invalid zijn geen werkelijke haai aanvallen\n",
        "# Aanname 2: questionable zijn mogelijk geen werkelijke haai aanvallen. Dit betreft een zeer klein aantal dus zal ook weinig bias veroorzaken.\n",
        "df = df.loc[(df['Type']!='Invalid') & (df['Type']!='Questionable')]\n",
        "\n",
        "display(df)"
      ],
      "metadata": {
        "id": "AV1P7-3875Th"
      },
      "execution_count": null,
      "outputs": []
    },
    {
      "cell_type": "code",
      "source": [
        "# Function to (easily) replace a value\n",
        "def replace(df, column, old, new):\n",
        "  df[column] = df[column].replace({old: new})"
      ],
      "metadata": {
        "id": "Vzt8gN5Q8s6G"
      },
      "execution_count": null,
      "outputs": []
    },
    {
      "cell_type": "markdown",
      "source": [
        "**Vraag 1: What are the most dangerous types of sharks to humans?**"
      ],
      "metadata": {
        "id": "peLxDKIH84Q3"
      }
    },
    {
      "cell_type": "code",
      "source": [
        "\n",
        "### Fatal kolom ###\n",
        "# Aanname 1: 'M' is een typfout en met 'N' zijn\n",
        "# Aanname 2: '2017' moet niet fataal zijn (gebasseerd op Injury kolom)\n",
        "\n",
        "# Onderzoek Fatal kolom vooraf\n",
        "print('Before:')\n",
        "display(df['Fatal'].unique())\n",
        "display(df.loc[:,'Fatal'].value_counts(dropna=False))\n",
        "\n",
        "# Clean Fatal kolom\n",
        "df['Fatal'] = df['Fatal'].str.upper()  # Solve 'y'\n",
        "df['Fatal'] = df['Fatal'].str.strip()  # Solve ' N' en 'N '\n",
        "replace(df, 'Fatal', 'UNKNOWN', None)\n",
        "replace(df, 'Fatal', 'M', 'N')  # (Aanname 1)\n",
        "replace(df, 'Fatal', '2017', 'N')  # (Aanname 2)\n",
        "replace(df, 'Fatal', 'N', False)\n",
        "replace(df, 'Fatal', 'Y', True)\n",
        "\n",
        "# Cast Fatal kolom naar boolean type\n",
        "df['Fatal'] = df['Fatal'].astype('boolean')\n",
        "\n",
        "# Vervang null waarde in Fatal kolom waarbij Injury kolom fataal aangeeft\n",
        "df.loc[(~df['Injury'].isna()) & (df['Fatal'].isna()) & (df['Injury'].str.lower().str.contains('fatal')),'Fatal'] = True # index 6104 > moet fatal zijn ipv NA!\n",
        "\n",
        "# Onderzoek Fatal kolom achteraf\n",
        "print('\\nAfter:')\n",
        "display(df['Fatal'].unique())\n",
        "display(df.loc[:,'Fatal'].value_counts(dropna=False))"
      ],
      "metadata": {
        "id": "bwPiCOys8742"
      },
      "execution_count": null,
      "outputs": []
    },
    {
      "cell_type": "code",
      "source": [
        "### Species kolom ###\n",
        "# Aanname 1: Met een mapping directory zul je niet alle sharktypes eruit filteren. Echter de meest voorkomende (en dus belangrijk voor deze vraag) zullen wel bovenwater komen\n",
        "\n",
        "# Onderzoek Species kolom\n",
        "# display(df['Species'].value_counts(dropna=False).head(30))\n",
        "# display(df['Species'].value_counts(dropna=False).tail(20))\n",
        "\n",
        "# Clean Species kolom d.m.v. 'mapping directory'\n",
        "mapping_directory = {'white' : 'White shark', 'hammerhead' : 'Hammerhead shark', 'tiger' : 'Tiger shark', 'bull' : 'Bull shark', 'leucas' : 'Bull shark', 'nurse' : 'Nurse shark', 'lemon' : 'Lemon shark',\n",
        "                     'reef' : 'Reef shark', 'wobbegong' : 'Wobbegong shark', 'blacktip' : 'Blacktip shark', 'black-tipped' : 'Blacktip shark', 'black tipped' : 'Blacktip shark', 'black finned' : 'Blacktip shark',\n",
        "                     'blackfin' : 'Blacktip shark', 'dusky' : 'Dusky shark', 'mako' : 'Mako shark', 'blue pointer' : 'Mako shark', 'carpet' : 'Carpet shark', 'blue' : 'Blue shark', 'galapagos' : 'Galapagos shark',\n",
        "                     'sevengill' : 'Sevengill shark', 'seven-gill' : 'Sevengill shark', 'dog' : 'Dog shark', 'cookiecutter' : 'Cookiecutter shark', 'cookie-cutter' : 'Cookiecutter shark', 'spinner' : 'Spinner shark',\n",
        "                     'angel' : 'Angel shark', 'silky' : 'Silky shark', 'sandbar' : 'Sandbar shark', 'bronze whaler' : 'Bronze whaler shark', 'sand' : 'Sand shark', 'whale' : 'Whale shark', 'zambesi' : 'Zambezi shark',\n",
        "                     'zambezi' : 'Zambezi shark', 'c leucas' : 'Zambezi shark', 'porbeagle' : 'Porbeagle', 'foot' : 'Foot shark', 'raggedtooth shark' : 'Ragged-tooth shark', 'goblin' : 'Goblin shark', 'cow' : 'Cow shark',\n",
        "                     'cat' : 'Catshark', 'salmon' : 'Salmon shark', 'thresher' : 'Thresher shark', 'starry smoothhound' : 'Starry smoothhound shark', 'basking' : 'Basking shark', 'copper' : 'Copper shark',\n",
        "                     'soupfin' : 'Soupfin shark', 'leopard' : 'Leopard shark', 'silvertip' : 'Silvertip shark', 'port jackson' : 'Port jackson shark', 'horn' : 'Horn shark', 'gummy' : 'Gummy shark',\n",
        "                     'shovelnose' : 'Shovelnose shark', 'bonita' : 'Bonito shark', 'saw' : 'Sawshark', 'carcharhinid' : 'Requiem shark'}\n",
        "\n",
        "for x, y in mapping_directory.items():\n",
        "    df.loc[(df['Species'].str.lower().str.contains(x)) & (~df['Species'].isna()), 'Species2'] = y\n",
        "\n",
        "# Onderzoek Species2 kolom\n",
        "display(df['Species2'].value_counts(dropna=False).head(10))"
      ],
      "metadata": {
        "colab": {
          "base_uri": "https://localhost:8080/",
          "height": 208
        },
        "id": "G7waQd0k9MWW",
        "outputId": "09ffb0b2-2f50-4e76-e1aa-a5ff55ad4488"
      },
      "execution_count": null,
      "outputs": [
        {
          "output_type": "display_data",
          "data": {
            "text/plain": [
              "NaN               3834\n",
              "White shark        644\n",
              "Tiger shark        251\n",
              "Bull shark         179\n",
              "Nurse shark         94\n",
              "Whale shark         81\n",
              "Blacktip shark      75\n",
              "Reef shark          58\n",
              "Mako shark          53\n",
              "Blue shark          53\n",
              "Name: Species2, dtype: int64"
            ]
          },
          "metadata": {}
        }
      ]
    },
    {
      "cell_type": "code",
      "source": [
        "### Beantwoorden van de vraag ###\n",
        "\n",
        "# Creëren van dataframe met totaal aantal aanvallen per haaiensoort\n",
        "totals = df['Species2'].value_counts(dropna=True)\n",
        "totals_sharks = totals.to_frame(name='Total')\n",
        "totals_sharks.reset_index(inplace=True)\n",
        "totals_sharks = totals_sharks.rename(columns = {'index':'Species'})\n",
        "# display(totals_sharks)\n",
        "\n",
        "# Creëren van een dataframe met aantal fatale aanvallen per sharktype\n",
        "fatals = df.loc[df['Fatal']==True, 'Species2'].value_counts()\n",
        "fatals = fatals.to_frame(name='Fatal')\n",
        "fatals.reset_index(inplace=True)\n",
        "fatals = fatals.rename(columns = {'index': 'Species'})\n",
        "# display(fatals)\n",
        "\n",
        "# Merge (left join) de twee dataframes en selecteer de 10 haaiensoorten met meeste aanvallen\n",
        "attacks = totals_sharks.merge(fatals, how='left')\n",
        "attacks['Fatal'] = attacks['Fatal'].replace({np.nan: 0})\n",
        "attacks = attacks.loc[0:9]\n",
        "\n",
        "# Creëren van kolom met percentage fatale aanvallen\n",
        "attacks['Fatal%'] = round(attacks['Fatal'] / attacks['Total'] * 100, 1)\n",
        "# display(attacks)\n",
        "# Grafieken maken van de 10 haaiensoorten met meeste aanvallen\n",
        "sharkspecies = attacks.loc[::-1, 'Species']\n",
        "totalattacks = attacks.loc[::-1, 'Total']\n",
        "fatalattacks = attacks.loc[::-1, 'Fatal']\n",
        "fatalpercentage = attacks.loc[::-1, 'Fatal%']\n",
        "\n",
        "fig, (ax1, ax2, ax3) = plt.subplots(1,3)\n",
        "ax1.barh(sharkspecies, totalattacks)\n",
        "ax2.barh(sharkspecies, fatalattacks)\n",
        "ax3.barh(sharkspecies, fatalpercentage)\n",
        "\n",
        "ax1.set_title(\"Totaal aanvallen\")\n",
        "ax2.set_title(\"Fatale aanvallen\")\n",
        "ax3.set_title(\"Percentage fatale aanvallen\")\n",
        "\n",
        "ax1.grid(axis='x', linewidth=0.3)\n",
        "ax2.grid(axis='x', linewidth=0.3)\n",
        "ax3.grid(axis='x', linewidth=0.3)\n",
        "\n",
        "fig.set_size_inches(35,10)\n",
        "\n",
        "# Antwoord\n",
        "print('Vraag 1: What are the most dangerous types of sharks to humans?\\n')\n",
        "\n",
        "plt.show()\n",
        "\n",
        "print(\"\"\"\n",
        "Conclusie:\n",
        "Als er wordt gekeken naar het totaal aantal aanvallen en het aantal fatale aanvallen dan staat de White shark met stip bovenaan als de gevaarlijkste haai voor mensen (resp. 644 en 145).\n",
        "Echter als we kijken naar de kans dat een aanval fataal afloopt dan blijkt de Tiger shark het meest gevaarlijk (27%).\n",
        "\"\"\")"
      ],
      "metadata": {
        "colab": {
          "base_uri": "https://localhost:8080/",
          "height": 483
        },
        "id": "izzg1bIR9VgI",
        "outputId": "97efd6c3-859f-41eb-8c98-1b3cd1d87636"
      },
      "execution_count": null,
      "outputs": [
        {
          "output_type": "stream",
          "name": "stdout",
          "text": [
            "Vraag 1: What are the most dangerous types of sharks to humans?\n",
            "\n"
          ]
        },
        {
          "output_type": "display_data",
          "data": {
            "text/plain": [
              "<Figure size 3500x1000 with 3 Axes>"
            ],
            "image/png": "[encoded data removed]"
          },
          "metadata": {}
        },
        {
          "output_type": "stream",
          "name": "stdout",
          "text": [
            "\n",
            "Conclusie:\n",
            "Als er wordt gekeken naar het totaal aantal aanvallen en het aantal fatale aanvallen dan staat de White shark met stip bovenaan als de gevaarlijkste haai voor mensen (resp. 644 en 145).\n",
            "Echter als we kijken naar de kans dat een aanval fataal afloopt dan blijkt de Tiger shark het meest gevaarlijk (27%).\n",
            "\n"
          ]
        }
      ]
    },
    {
      "cell_type": "markdown",
      "source": [
        "**Vraag 2: Are children more likely to be attacked by sharks?**"
      ],
      "metadata": {
        "id": "UA0Lin7m9stq"
      }
    },
    {
      "cell_type": "code",
      "source": [
        "### Age kolom ###\n",
        "\n",
        "# Aanname: <12 = kind, 12-18 = tiener, 18-65 = volwassen, >65 = senior\n",
        "# let op: als de Age bijv 'teen' is dan wordt willekeurig een leeftijd tussen 12 en 18 gegeven zodat deze in de juiste leeftijdscategorie komt\n",
        "# Let op: als de leeftijd 'or' bevat en beide leeftijden zijn boven of onder een grenswaarde, dan wordt (willekeurig) één van beide waardes gekozen. In andere gevallen is de leeftijdscatogorie onbekend\n",
        "# Let op: als de leeftijd '&' bevat en beide leeftijden zijn boven of onder een grenswaarde, dan wordt (willekeurig) één van beide waardes gekozen. In andere gevallen is de leeftijdscatogorie meerduidig en wordt dan uitgesloten\n",
        "\n",
        "# Onderzoek Age kolom\n",
        "# display(df['Age'].unique())\n",
        "\n",
        "# Overbodige spaties, 's', apostrofs, haakjes en halven verwijderen:\n",
        "df['Age'] = df.loc[~(df['Age'].isna()), 'Age'].apply(lambda x: str(x).strip())\n",
        "df['Age'] = df.loc[~(df['Age'].isna()), 'Age'].apply(lambda x: ' '.join(str(x).split()))\n",
        "df['Age'] = df.loc[~(df['Age'].isna()), 'Age'].apply(lambda x: str(x).rstrip('s').strip(\"'\").strip('\"'). strip('()').rstrip('½'))\n",
        "\n",
        "# Clean Age kolom d.m.v. 'mapping directory'\n",
        "mapping_directory_age = {'Teen':16, 'teen': 16, '18 month': 1, '28 & 26': 28,\n",
        "                         '18 or 20' : 18, '12 or 13': 12, '46 & 34' : 46,\n",
        "                         '28, 23 & 30' : 23, '36 & 26': 26, '': np.nan,\n",
        "                         '30 or 36' : 30, '21 & ?' : 21, '33 or 37' : 33,\n",
        "                         'mid-30': 35, '7 & 31' : np.nan, '20?' : 20,\n",
        "                         '32 & 30' : 32, 'Elderly' : 65, '21 or 26' : 23,\n",
        "                         '>50' : 51, '18 to 22' : 18, 'adult' : 18, '9 & 12' : 9,\n",
        "                         '9 month' : 0, '25 to 35' : 25, '23 & 26' : 23,\n",
        "                         '33 & 37' : 33, '25 or 28' : 25, '30 & 32' : 30,\n",
        "                         '50 & 30' : 50, '17 & 35' : np.nan, 'X' : np.nan,\n",
        "                         'middle-age' : 50, '13 or 18' : 13, '33 & 26' : 33,\n",
        "                         'MAKE LINE GREEN' : np.nan, '7 or 8' : 7,\n",
        "                         '17 & 16' : 17, '8 or 10' : 8, 'F' : np.nan,\n",
        "                         'Both 11' : 11, '9 or 10' : 9, 'young' : 10,\n",
        "                         '36 & 23' : 36, 'A.M.' : np.nan, '? & 14' : 14,\n",
        "                         '10 or 12' : 10, '31 or 33' : 31, '13 or 14' : 13}\n",
        "\n",
        "for x, y in mapping_directory_age.items():\n",
        "  df.loc[(df['Age']==x), 'Age'] = str(y)\n",
        "\n",
        "# Cast Age kolom naar floats\n",
        "df.Age = df.Age.astype('float')\n",
        "\n",
        "# Leeftijdsgroepering maken\n",
        "df.loc[(df['Age']<12), 'Age2'] = 'Kind'\n",
        "df.loc[(df['Age']>=12) & (df['Age']<18), 'Age2'] = 'Tiener'\n",
        "df.loc[(df['Age']>=18) & (df['Age']<65), 'Age2'] = 'Volwassen'\n",
        "df.loc[df['Age']>=65, 'Age2'] = 'Senior'\n",
        "\n",
        "# Resultaat\n",
        "display(df['Age2'].value_counts(dropna=False))"
      ],
      "metadata": {
        "colab": {
          "base_uri": "https://localhost:8080/",
          "height": 121
        },
        "id": "qsn3jaq69umA",
        "outputId": "115b3f18-cd0c-4062-8732-3cab2b0cecba"
      },
      "execution_count": null,
      "outputs": [
        {
          "output_type": "display_data",
          "data": {
            "text/plain": [
              "NaN          2530\n",
              "Volwassen    2289\n",
              "Tiener        689\n",
              "Kind          197\n",
              "Senior         48\n",
              "Name: Age2, dtype: int64"
            ]
          },
          "metadata": {}
        }
      ]
    },
    {
      "cell_type": "code",
      "source": [
        "### Antwoord ###\n",
        "print('Vraag 2: Are children more likely to be attacked by sharks?\\n')\n",
        "\n",
        "print('Aanvallen per leeftijdsgroep')\n",
        "display(df['Age2'].value_counts(dropna=True))\n",
        "\n",
        "print(\"\"\"\n",
        "Conclusie:\n",
        "Uit de data blijkt niet dat kinderen meer kans hebben om aangevallen te worden door haaien dan andere leeftijdsgroepen.\n",
        "\n",
        "Let op: er wordt geen rekening gehouden met het feit dat bepaalde leeftijdsgroepen mogelijk vaker op/rond het water te vinden zijn.\n",
        "Hierdoor kan het absoluut aantal haai aanvallen bij kinderen laag lijken, maar mogelijk is dit procentueel hoger!\"\"\")"
      ],
      "metadata": {
        "colab": {
          "base_uri": "https://localhost:8080/",
          "height": 260
        },
        "id": "0Dbz51E3-GvK",
        "outputId": "4ab21293-e8a2-4f4c-bc0f-63492e50182a"
      },
      "execution_count": null,
      "outputs": [
        {
          "output_type": "stream",
          "name": "stdout",
          "text": [
            "Vraag 2: Are children more likely to be attacked by sharks?\n",
            "\n",
            "Aanvallen per leeftijdsgroep\n"
          ]
        },
        {
          "output_type": "display_data",
          "data": {
            "text/plain": [
              "Volwassen    2289\n",
              "Tiener        689\n",
              "Kind          197\n",
              "Senior         48\n",
              "Name: Age2, dtype: int64"
            ]
          },
          "metadata": {}
        },
        {
          "output_type": "stream",
          "name": "stdout",
          "text": [
            "\n",
            "Conclusie:\n",
            "Uit de data blijkt niet dat kinderen meer kans hebben om aangevallen te worden door haaien dan andere leeftijdsgroepen. \n",
            "\n",
            "Let op: er wordt geen rekening gehouden met het feit dat bepaalde leeftijdsgroepen mogelijk vaker op/rond het water te vinden zijn. \n",
            "Hierdoor kan het absoluut aantal haai aanvallen bij kinderen laag lijken, maar mogelijk is dit procentueel hoger!\n"
          ]
        }
      ]
    },
    {
      "cell_type": "markdown",
      "source": [
        "**Vraag 3: Are shark attacks where sharks were provoked more or less dangerous?**"
      ],
      "metadata": {
        "id": "TRwfdfTl-US1"
      }
    },
    {
      "cell_type": "code",
      "source": [
        "### Type kolom ###\n",
        "\n",
        "# Aanname 1: een haai wordt niet uitgelokt door 'Boating'\n",
        "# Aanname 2: een haai wordt wel uitgelokt door een 'Sea disaster'\n",
        "# Aanname 3: indien Injury kolom aangeeft dat aanval provoked was dan wordt deze ook geclassificeerd als provoked (slechts 3 waarnemingen, dus heeft weinig invloed)\n",
        "# Aanname 4: een aanval wordt als gevaarlijker gezien indien deze fataal is afgelopen\n",
        "\n",
        "# Onderzoek Type kolom\n",
        "# display(df['Type'].unique())\n",
        "# display(df['Type'].value_counts())\n",
        "\n",
        "# Creëren van Type2 kolom\n",
        "df['Type2'] = df['Type']\n",
        "\n",
        "# Clean Type2 kolom\n",
        "replace(df, 'Type2', 'Boatomg', 'Boating')\n",
        "replace(df, 'Type2', 'Boat', 'Boating')\n",
        "replace(df, 'Type2', 'Boating', 'Unprovoked')  # (aanname 1)\n",
        "replace(df, 'Type2', 'Sea Disaster', 'Provoked')  # (aanname 2)\n",
        "\n",
        "# Indien Injury kolom aangeeft dat een aanval provoked was, dan wordt Type Provoked (aanname 3)\n",
        "df.loc[(df['Type']!='Provoked') & (df['Injury'].str.lower().str.contains('provoked')) & (df['Injury'].str.lower().str.contains('unprovoked') == False), 'Type2'] = 'Provoked'\n",
        "\n",
        "\n",
        "### Antwoord ###\n",
        "\n",
        "# Bereken percentage fatale afloop voor uitgelokte en niet uitgelokte aanvallen\n",
        "fatal_provoked = df.loc[(df['Type2']=='Provoked') & (df['Fatal']==True), 'Type2'].count()\n",
        "total_provoked = df.loc[(df['Type2']=='Provoked') & (~df['Fatal'].isna()), 'Type2'].count()\n",
        "fatal_provoked_perc = round(fatal_provoked/total_provoked * 100, 1)\n",
        "\n",
        "fatal_unprovoked = df.loc[(df['Type2']=='Unprovoked') & (df['Fatal']==True), 'Type2'].count()\n",
        "total_unprovoked = df.loc[(df['Type2']=='Unprovoked') & (~df['Fatal'].isna()), 'Type2'].count()\n",
        "fatal_unprovoked_perc = round(fatal_unprovoked/total_unprovoked * 100, 1)\n",
        "\n",
        "# Antwoord\n",
        "print('Vraag 3: Are shark attacks where sharks were provoked more or less dangerous?\\n')\n",
        "\n",
        "print(f\"Een uitgelokte aanval leidde in {fatal_provoked_perc}% van de gevallen tot een fatale afloop\\nDe aanvallen die niet uitgelokt werden, leidde in {fatal_unprovoked_perc}% van de gevallen tot een fatale afloop\")\n",
        "\n",
        "print(\"\"\"\n",
        "Conclusie:\n",
        "Uit de data blijkt niet dat een uitgelokte aanval gevaarlijker is.\"\"\")"
      ],
      "metadata": {
        "colab": {
          "base_uri": "https://localhost:8080/"
        },
        "id": "oPe_gvm4-W1U",
        "outputId": "a38a53e8-c3f3-423e-c725-0c44872df9c2"
      },
      "execution_count": null,
      "outputs": [
        {
          "output_type": "stream",
          "name": "stdout",
          "text": [
            "Vraag 3: Are shark attacks where sharks were provoked more or less dangerous?\n",
            "\n",
            "Een uitgelokte aanval leidde in 23.3% van de gevallen tot een fatale afloop\n",
            "De aanvallen die niet uitgelokt werden, leidde in 24.5% van de gevallen tot een fatale afloop\n",
            "\n",
            "Conclusie:\n",
            "Uit de data blijkt niet dat een uitgelokte aanval gevaarlijker is.\n"
          ]
        }
      ]
    },
    {
      "cell_type": "markdown",
      "source": [
        "**Vraag 4: Are certain activities more likely to result in a shark attack?**"
      ],
      "metadata": {
        "id": "80oHAu4R-inj"
      }
    },
    {
      "cell_type": "code",
      "source": [
        "### Activity kolom ###\n",
        "\n",
        "# Aanname 1: activiteiten die 3x of minder voorkomen zullen weinig bijdragen aan het eindantwoord\n",
        "\n",
        "# Onderzoek Activity kolom\n",
        "# display(df['Activity'].value_counts().head(60))\n",
        "\n",
        "# df['Activity2'] = df['Activity']\n",
        "\n",
        "# Clean Activity kolom d.m.v. 'mapping directory'\n",
        "mapping_directory_activity = {'surfing' : 'Surfing', 'surf': 'Surfing','swimming' : 'Swimming', 'fishing' : 'Fishing', 'spearfishing' : 'Spearfishing', 'spearing':'Spearfishing', 'bath' : 'Bathing', 'wading' : 'Wading', 'diving' : 'Diving', 'dive' : 'Diving',\n",
        "                              'standing' : 'Standing', 'snorkeling' : 'Snorkeling', 'snork': 'Snorkeling', 'body boarding':'Body boarding', 'body-boarding':'Body boarding', 'kayaking' : 'Kayaking', 'treading':'Treading water', 'overboard':'Overboard',\n",
        "                              'boogie': 'Boogie boarding', 'walking':'Walking', 'floating':'Floating', 'canoe' : 'Canoeing', 'rowing':'Rowing', 'sculling':'Rowing', 'paddle boarding': 'Paddle boarding', 'tagging':'Tagging',\n",
        "                              'kite':'Kite boarding', 'racing': 'Racing', 'Race':'Racing', 'cruising':'Cruising', 'jump': 'Jumping', 'feed':'Feeding', 'shooting':'Shooting', 'washing':'Washing', 'sup':'SUP', 'stand-up paddl':'SUP', 'watch':'Watching',\n",
        "                              'netting':'Netting', 'play': 'Playing', 'capsized' : 'Capsized', 'murder':'Kill', 'kill':'Kill', 'crab':'crabbing', 'air disaster' : 'Air disaster', 'plane' : 'Air disaster',\n",
        "                              'air/sea disaster' : 'Air disaster', 'aircraft':'Air disaster', 'sailing' : 'Sailing', 'boating' : 'Boating'}\n",
        "\n",
        "for x, y in mapping_directory_activity.items():\n",
        "  df.loc[(df['Activity'].str.lower().str.contains(x) & (~df['Activity'].isna())), 'Activity2'] = y\n",
        "\n",
        "\n",
        "display(df['Activity2'].value_counts().head(15))\n",
        "\n"
      ],
      "metadata": {
        "colab": {
          "base_uri": "https://localhost:8080/",
          "height": 295
        },
        "id": "k7hKn5om-nns",
        "outputId": "74d64e46-5a87-471a-b726-e83d85675e16"
      },
      "execution_count": null,
      "outputs": [
        {
          "output_type": "display_data",
          "data": {
            "text/plain": [
              "Surfing            1097\n",
              "Swimming            947\n",
              "Fishing             656\n",
              "Diving              515\n",
              "Spearfishing        358\n",
              "Bathing             176\n",
              "Wading              164\n",
              "Standing            140\n",
              "Snorkeling           99\n",
              "Overboard            77\n",
              "Body boarding        72\n",
              "Capsized             55\n",
              "Boogie boarding      49\n",
              "Floating             46\n",
              "Treading water       45\n",
              "Name: Activity2, dtype: int64"
            ]
          },
          "metadata": {}
        }
      ]
    },
    {
      "cell_type": "code",
      "source": [
        "\n",
        "### Antwoord ###\n",
        "\n",
        "# Resultaat inzichtelijk maken middels horizontale barchart\n",
        "activities = df['Activity2'].value_counts().head(15).index.tolist()\n",
        "attacks = np.array(df['Activity2'].value_counts().head(15).tolist())\n",
        "total = df.shape[0]\n",
        "attackperc = (attacks / total * 100).round(1)\n",
        "\n",
        "fig, (ax) = plt.subplots()\n",
        "ax.barh(activities, attackperc)\n",
        "plt.axvline(x=5, c='orange')\n",
        "plt.axvline(x=10, c='r')\n",
        "ax.set_title('Top 15 activiteiten')\n",
        "\n",
        "# Antwoord\n",
        "print('Vraag 4: Are certain activities more likely to result in a shark attack?\\n')\n",
        "\n",
        "plt.show()\n",
        "\n",
        "print(\"\"\"\n",
        "Conclusie:\n",
        "Gekeken naar het aantal aanvallen per activiteit, blijkt dat enkele activiteiten een stuk vaker voorkomen.\n",
        "Er zijn drie activiteiten die er met kop en schouders bovenuit steken, namelijk: surfen, zwemmen en vissen.\n",
        "Deze zijn verantwoordelijk voor respectievelijk 19.1%, 16.5% en 11.4% van de aanvallen.\n",
        "Iets minder frequent, maar nog steeds opvallend, zijn: duiken en speervissen (resp. 9% en 6.2%)\n",
        "\n",
        "Let op: Er wordt geen rekening gehouden met het feit dat bepaalde activiteiten mogelijk vaker worden uitgevoerd/populairder is.\n",
        "Hierdoor kan een activiteit absoluut gezien leiden tot veel aanvallen maar procentueel kan dit anders zijn!\n",
        "\"\"\"\n",
        ")"
      ],
      "metadata": {
        "id": "oNPEqhlL-3Nr",
        "outputId": "62645c3e-45e1-4d57-910c-dbef49ebdb47",
        "colab": {
          "base_uri": "https://localhost:8080/",
          "height": 660
        }
      },
      "execution_count": null,
      "outputs": [
        {
          "output_type": "stream",
          "name": "stdout",
          "text": [
            "Vraag 4: Are certain activities more likely to result in a shark attack?\n",
            "\n"
          ]
        },
        {
          "output_type": "display_data",
          "data": {
            "text/plain": [
              "<Figure size 640x480 with 1 Axes>"
            ],
            "image/png": "[encoded data removed]"
          },
          "metadata": {}
        },
        {
          "output_type": "stream",
          "name": "stdout",
          "text": [
            "\n",
            "Conclusie:\n",
            "Gekeken naar het aantal aanvallen per activiteit, blijkt dat enkele activiteiten een stuk vaker voorkomen.\n",
            "Er zijn drie activiteiten die met kop en schouders er bovenuit steken, namelijk: surven, zwemmen en vissen.\n",
            "Deze zijn verantwoordelijk voor respectievelijk 19.1%, 16.5% en 11.4% van de aanvallen.\n",
            "Iets minder frequent, maar nog steeds opvallend, zijn: duiken en speervissen (resp. 9% en 6.2%)\n",
            "\n",
            "Let op: Er wordt geen rekening gehouden met het feit dat bepaalde activiteiten mogelijk vaker worden uitgevoerd/populairder is.\n",
            "Hierdoor kan een activiteit absoluut gezien leiden tot veel aanvallen maar procentueel kan dit anders zijn!\n",
            "\n"
          ]
        }
      ]
    }
  ]
}