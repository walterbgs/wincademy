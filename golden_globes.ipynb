{
  "nbformat": 4,
  "nbformat_minor": 0,
  "metadata": {
    "colab": {
      "provenance": [],
      "authorship_tag": "ABX9TyPZUL9CZTHhgeHUa8ckCYby",
      "include_colab_link": true
    },
    "kernelspec": {
      "name": "python3",
      "display_name": "Python 3"
    },
    "language_info": {
      "name": "python"
    }
  },
  "cells": [
    {
      "cell_type": "markdown",
      "metadata": {
        "id": "view-in-github",
        "colab_type": "text"
      },
      "source": [
        "<a href=\"https://colab.research.google.com/github/walterbgs/wincademy/blob/main/golden_globes.ipynb\" target=\"_parent\"><img src=\"https://colab.research.google.com/assets/colab-badge.svg\" alt=\"Open In Colab\"/></a>"
      ]
    },
    {
      "cell_type": "code",
      "source": [
        "def won_golden_globe(film_name):\n",
        "    golden_globes = [\"Jaws\", \"Star Wars: Episode IV - A New Hope\", \"E.T. the Extra-Terrestrial\", \"Memoirs of a Geisha\"]\n",
        "    film_name = film_name.lower()\n",
        "    for film in golden_globes: # i used for loop, because it makes easier to iterate over the list\n",
        "        if film.lower() == film_name:\n",
        "            return True\n",
        "    return False\n",
        "\n",
        "z= won_golden_globe(\"jaws\")\n",
        "print (z)"
      ],
      "metadata": {
        "id": "01ranjVJbPsf"
      },
      "execution_count": null,
      "outputs": []
    }
  ]
}